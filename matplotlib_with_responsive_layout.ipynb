{
 "cells": [
  {
   "cell_type": "code",
   "execution_count": 1,
   "id": "4c15db53",
   "metadata": {},
   "outputs": [],
   "source": [
    "import ipywidgets as widgets\n",
    "import matplotlib.pyplot as plt\n",
    "import numpy as np\n",
    "from IPython.display import display\n",
    "import os\n",
    "from urllib.parse import parse_qs"
   ]
  },
  {
   "cell_type": "code",
   "execution_count": 18,
   "id": "0334d074",
   "metadata": {},
   "outputs": [
    {
     "data": {
      "text/html": [
       "<style>\n",
       ".jupyter-matplotlib {\n",
       "    width: 100%;\n",
       "}\n",
       "\n",
       ".jupyter-matplotlib-figure {\n",
       "    flex: 1;\n",
       "}\n",
       "\n",
       ".jupyter-widgets.jupyter-matplotlib-canvas-div{\n",
       "    width: 100% !important;\n",
       "    height: 0 !important;\n",
       "    padding-top: 60%;\n",
       "}\n",
       "\n",
       ".jupyter-widgets.jupyter-matplotlib-canvas-div canvas{\n",
       "    width: 100% !important;\n",
       "    height: 100% !important;\n",
       "}\n",
       "</style>\n"
      ],
      "text/plain": [
       "<IPython.core.display.HTML object>"
      ]
     },
     "metadata": {},
     "output_type": "display_data"
    }
   ],
   "source": [
    "%%html\n",
    "<style>\n",
    ".jupyter-matplotlib {\n",
    "    width: 100%;\n",
    "}\n",
    "\n",
    ".jupyter-matplotlib-figure {\n",
    "    flex: 1;\n",
    "}\n",
    "\n",
    ".jupyter-widgets.jupyter-matplotlib-canvas-div{\n",
    "    width: 100% !important;\n",
    "    height: 0 !important;\n",
    "    padding-top: 60%;\n",
    "}\n",
    "\n",
    ".jupyter-widgets.jupyter-matplotlib-canvas-div canvas{\n",
    "    width: 100% !important;\n",
    "    height: 100% !important;\n",
    "}\n",
    "</style>"
   ]
  },
  {
   "cell_type": "code",
   "execution_count": 19,
   "id": "777d881e",
   "metadata": {},
   "outputs": [
    {
     "data": {
      "application/vnd.jupyter.widget-view+json": {
       "model_id": "11e05df07d3a4a44a9f42c7df60a3d57",
       "version_major": 2,
       "version_minor": 0
      },
      "text/plain": [
       "Canvas(toolbar=Toolbar(toolitems=[('Home', 'Reset original view', 'home', 'home'), ('Back', 'Back to previous …"
      ]
     },
     "metadata": {},
     "output_type": "display_data"
    },
    {
     "name": "stdout",
     "output_type": "stream",
     "text": [
      "query string parameters: {}\n"
     ]
    },
    {
     "data": {
      "application/vnd.jupyter.widget-view+json": {
       "model_id": "dc15d76ede9e4337a48ebcfd7d91bfb6",
       "version_major": 2,
       "version_minor": 0
      },
      "text/plain": [
       "HBox(children=(IntSlider(value=1), FloatSlider(value=1.0), FloatSlider(value=1.0)))"
      ]
     },
     "metadata": {},
     "output_type": "display_data"
    },
    {
     "data": {
      "application/vnd.jupyter.widget-view+json": {
       "model_id": "725746cd63da4e85bb86ff1e28e2ab6e",
       "version_major": 2,
       "version_minor": 0
      },
      "text/plain": [
       "Output()"
      ]
     },
     "metadata": {},
     "output_type": "display_data"
    }
   ],
   "source": [
    "# set up plot\n",
    "# %matplotlib agg\n",
    "# %matplotlib agg\n",
    "%matplotlib widget\n",
    "# plt.ioff()\n",
    "fig, ax = plt.subplots(figsize=(8, 5))\n",
    "ax.set_ylim([-4, 4])\n",
    "ax.grid(True)\n",
    " \n",
    "# generate x values\n",
    "x = np.linspace(0, 2 * np.pi, 100)\n",
    " \n",
    " \n",
    "def my_sine(x, w, amp, phi):\n",
    "    \"\"\"\n",
    "    Return a sine for x with angular frequeny w and amplitude amp.\n",
    "    \"\"\"\n",
    "    return amp*np.sin(w * (x-phi))\n",
    " \n",
    " \n",
    "# @widgets.interact(w=(0, 10, 1), amp=(0, 4, .1), phi=(0, 2*np.pi+0.01, 0.01))\n",
    "def update(w = 1.0, amp=1, phi=0):\n",
    "    \"\"\"Remove old lines from plot and plot new one\"\"\"\n",
    "    [l.remove() for l in ax.lines]\n",
    "    ax.plot(x, my_sine(x, w, amp, phi), color='C0')\n",
    "    \n",
    "# https://github.com/voila-dashboards/voila/blob/master/notebooks/query-strings.ipynb\n",
    "query_string = os.environ.get('QUERY_STRING', '')\n",
    "parameters = parse_qs(query_string)\n",
    "print(\"query string parameters:\", parameters)\n",
    "    \n",
    "a = widgets.IntSlider(value=int(parameters.get(\"w\", [\"1\"])[0]))\n",
    "b = widgets.FloatSlider(value=parameters.get(\"amp\", 1))\n",
    "c = widgets.FloatSlider(value=parameters.get(\"phi\", 1))\n",
    "ui = widgets.HBox([a, b, c])\n",
    "    \n",
    "out = widgets.interactive_output(update, {'w': a, 'amp': b, 'phi': c})\n",
    "display(ui, out)"
   ]
  },
  {
   "cell_type": "code",
   "execution_count": null,
   "id": "72ebe1ca",
   "metadata": {},
   "outputs": [],
   "source": []
  }
 ],
 "metadata": {
  "kernelspec": {
   "display_name": "Python 3",
   "language": "python",
   "name": "python3"
  },
  "language_info": {
   "codemirror_mode": {
    "name": "ipython",
    "version": 3
   },
   "file_extension": ".py",
   "mimetype": "text/x-python",
   "name": "python",
   "nbconvert_exporter": "python",
   "pygments_lexer": "ipython3",
   "version": "3.8.8"
  },
  "toc-autonumbering": false,
  "toc-showcode": false,
  "toc-showmarkdowntxt": false,
  "toc-showtags": true
 },
 "nbformat": 4,
 "nbformat_minor": 5
}
