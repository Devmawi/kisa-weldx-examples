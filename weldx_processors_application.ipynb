{
 "cells": [
  {
   "cell_type": "markdown",
   "metadata": {},
   "source": [
    "# Simple WelDX File Processors\n",
    "\n",
    "## Introduction\n",
    "This tutorial is about applying functions from a dynamically loaded  loaded module on a weldx file:\n",
    "\n",
    "* import module by name\n",
    "* detect all functions\n",
    "* let the user choose a function interactive for file manipulation\n",
    "* print it as a json\n",
    "\n",
    "1. First starting with the imports of weldx:"
   ]
  },
  {
   "cell_type": "code",
   "execution_count": 1,
   "metadata": {},
   "outputs": [],
   "source": [
    "import asdf\n",
    "import weldx\n",
    "import weldx.asdf\n",
    "from weldx import Q_ # pint quantity from the weldx package\n",
    "from weldx.asdf.extension import WeldxAsdfExtension, WeldxExtension\n",
    "from weldx.welding.groove.iso_9692_1 import get_groove, IsoBaseGroove, _create_test_grooves\n",
    "from weldx.core import TimeSeries as TS\n",
    "from weldx.welding.processes import GmawProcess\n",
    "\n",
    "from inspect import isfunction, getmembers, getmodule\n",
    "from typing import List\n",
    "\n",
    "from ipywidgets import interact, interact_manual, fixed\n",
    "from IPython.display import display, HTML, JSON, IFrame"
   ]
  },
  {
   "cell_type": "code",
   "execution_count": 2,
   "metadata": {},
   "outputs": [
    {
     "name": "stdout",
     "output_type": "stream",
     "text": [
      "{'add_process_spray': <function add_process_spray at 0x000001E09F5A73A0>, 'add_pulse_ui': <function add_pulse_ui at 0x000001E0B2CDC670>, 'add_seam_length': <function add_seam_length at 0x000001E09F4C4820>}\n"
     ]
    }
   ],
   "source": [
    "# Get all functions for file manipulation of a specific module\n",
    "weldx_processor_module = __import__(\"weldx_processors\") # simulate dynamic module loading\n",
    "weldx_processors = [m[1] for m in getmembers(weldx_processor_module) if isfunction(m[1]) and getmodule(m[1]) == weldx_processor_module]\n",
    "# for a real use case, make some filtering for e.g. by analysing anotations\n",
    "weldx_processor_options = { p.__name__:p for p in weldx_processors }\n",
    "print(weldx_processor_options)"
   ]
  },
  {
   "cell_type": "code",
   "execution_count": 3,
   "metadata": {},
   "outputs": [
    {
     "data": {
      "application/json": {
       "asdf_library": {
        "author": "Space Telescope Science Institute",
        "homepage": "http://github.com/spacetelescope/asdf",
        "name": "asdf",
        "version": "2.7.3"
       },
       "history": {
        "extensions": [
         {
          "extension_class": "weldx.asdf.extension.WeldxExtension",
          "software": {
           "name": "weldx",
           "version": "0.3.1"
          }
         },
         {
          "extension_class": "asdf.extension.BuiltinExtension",
          "software": {
           "name": "asdf",
           "version": "2.7.3"
          }
         },
         {
          "extension_class": "weldx.asdf.extension.WeldxAsdfExtension",
          "software": {
           "name": "weldx",
           "version": "0.3.1"
          }
         }
        ]
       },
       "workpiece": {
        "groove": {
         "alpha": {
          "unit": "degree",
          "value": "50"
         },
         "b": {
          "unit": "millimeter",
          "value": "2"
         },
         "c": {
          "unit": "millimeter",
          "value": "4"
         },
         "code_number": [
          "1.3",
          "1.5"
         ],
         "t": {
          "unit": "millimeter",
          "value": "9"
         }
        }
       }
      },
      "text/plain": [
       "<IPython.core.display.JSON object>"
      ]
     },
     "execution_count": 3,
     "metadata": {
      "application/json": {
       "expanded": false,
       "root": "/"
      }
     },
     "output_type": "execute_result"
    }
   ],
   "source": [
    "# Create an initial file\n",
    "example_groove = list(_create_test_grooves().values())[0][0]\n",
    "tree = {\"workpiece\": {\"groove\": example_groove}}\n",
    "file = asdf.AsdfFile(tree)\n",
    "file_buffer = weldx.asdf.util.write_buffer(file.tree)\n",
    "weldx.asdf.util.asdf_json_repr(file_buffer)"
   ]
  },
  {
   "cell_type": "code",
   "execution_count": 4,
   "metadata": {},
   "outputs": [
    {
     "data": {
      "application/vnd.jupyter.widget-view+json": {
       "model_id": "178acc8c36a14fa2bdef30cc442f59f3",
       "version_major": 2,
       "version_minor": 0
      },
      "text/plain": [
       "interactive(children=(Dropdown(description='options', options=('add_process_spray', 'add_pulse_ui', 'add_seam_…"
      ]
     },
     "metadata": {},
     "output_type": "display_data"
    },
    {
     "data": {
      "text/plain": [
       "<function __main__.process_file(options, file)>"
      ]
     },
     "execution_count": 4,
     "metadata": {},
     "output_type": "execute_result"
    }
   ],
   "source": [
    "# Let choose a user, that function he wants to use for file manipulation\n",
    "def process_file(options, file):\n",
    "    process_file = weldx_processor_options[options]\n",
    "    new_file = process_file(file)\n",
    "    new_file_buffer = weldx.asdf.util.write_buffer(new_file.tree)\n",
    "    display(weldx.asdf.util.asdf_json_repr(new_file_buffer))\n",
    "    \n",
    "interact_manual(process_file, options=weldx_processor_options.keys(), file=fixed(file))"
   ]
  },
  {
   "cell_type": "code",
   "execution_count": null,
   "metadata": {},
   "outputs": [],
   "source": []
  }
 ],
 "metadata": {
  "kernelspec": {
   "display_name": "Python 3",
   "language": "python",
   "name": "python3"
  },
  "language_info": {
   "codemirror_mode": {
    "name": "ipython",
    "version": 3
   },
   "file_extension": ".py",
   "mimetype": "text/x-python",
   "name": "python",
   "nbconvert_exporter": "python",
   "pygments_lexer": "ipython3",
   "version": "3.8.8"
  }
 },
 "nbformat": 4,
 "nbformat_minor": 4
}