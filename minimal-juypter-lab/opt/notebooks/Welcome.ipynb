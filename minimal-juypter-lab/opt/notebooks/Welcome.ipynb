{
 "cells": [
  {
   "cell_type": "code",
   "execution_count": 2,
   "id": "2b040f4a-8d42-4e4c-9fbe-07f9f6ed4dab",
   "metadata": {},
   "outputs": [
    {
     "name": "stdout",
     "output_type": "stream",
     "text": [
      "Welcome to jupyter in Docker\n"
     ]
    }
   ],
   "source": [
    "print(\"Welcome to jupyter in Docker\")"
   ]
  },
  {
   "cell_type": "code",
   "execution_count": null,
   "id": "16b5b349-e8e2-49cd-9863-27b64bbd61ee",
   "metadata": {},
   "outputs": [],
   "source": []
  }
 ],
 "metadata": {
  "kernelspec": {
   "display_name": "Python 3",
   "language": "python",
   "name": "python3"
  },
  "language_info": {
   "codemirror_mode": {
    "name": "ipython",
    "version": 3
   },
   "file_extension": ".py",
   "mimetype": "text/x-python",
   "name": "python",
   "nbconvert_exporter": "python",
   "pygments_lexer": "ipython3",
   "version": "3.8.9"
  }
 },
 "nbformat": 4,
 "nbformat_minor": 5
}
