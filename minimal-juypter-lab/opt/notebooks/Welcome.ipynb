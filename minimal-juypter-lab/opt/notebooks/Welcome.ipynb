{
 "cells": [
  {
   "cell_type": "code",
   "execution_count": 2,
   "id": "2b040f4a-8d42-4e4c-9fbe-07f9f6ed4dab",
   "metadata": {},
   "outputs": [
    {
     "name": "stdout",
     "output_type": "stream",
     "text": [
      "Welcome to jupyter in Docker\n"
     ]
    }
   ],
   "source": [
    "print(\"Welcome to jupyter in Docker\")"
   ]
  },
  {
   "cell_type": "code",
   "execution_count": 4,
   "id": "16b5b349-e8e2-49cd-9863-27b64bbd61ee",
   "metadata": {},
   "outputs": [],
   "source": [
    "import asdf\n",
    "import numpy as np"
   ]
  },
  {
   "cell_type": "code",
   "execution_count": 14,
   "id": "15bcfd0e-eccb-471d-8c37-da0923e8d775",
   "metadata": {},
   "outputs": [],
   "source": [
    "random = np.random.random(10)"
   ]
  },
  {
   "cell_type": "code",
   "execution_count": 15,
   "id": "64a9dc07-8bb5-4f55-9d80-09ecd1ce7201",
   "metadata": {},
   "outputs": [
    {
     "data": {
      "text/plain": [
       "array([0.18051382, 0.66201252, 0.59991685, 0.09584624, 0.15600605,\n",
       "       0.2465475 , 0.28329611, 0.03858805, 0.89963941, 0.45945074])"
      ]
     },
     "execution_count": 15,
     "metadata": {},
     "output_type": "execute_result"
    }
   ],
   "source": [
    "random"
   ]
  },
  {
   "cell_type": "code",
   "execution_count": 16,
   "id": "df17604f-a7f2-40e7-bba0-39ff90947f0a",
   "metadata": {},
   "outputs": [],
   "source": [
    "tree = { 'random': random }"
   ]
  },
  {
   "cell_type": "code",
   "execution_count": 17,
   "id": "0990cea6-e21f-4bc3-9a29-5565c0b7158f",
   "metadata": {},
   "outputs": [],
   "source": [
    "af = asdf.AsdfFile(tree)\n",
    "af.write_to(\"welcome.asdf\")"
   ]
  },
  {
   "cell_type": "code",
   "execution_count": 18,
   "id": "69328255-36f4-4474-9427-f054159fa648",
   "metadata": {},
   "outputs": [
    {
     "data": {
      "text/plain": [
       "{'random': array([0.18051382, 0.66201252, 0.59991685, 0.09584624, 0.15600605,\n",
       "        0.2465475 , 0.28329611, 0.03858805, 0.89963941, 0.45945074]),\n",
       " 'asdf_library': {'name': 'asdf',\n",
       "  'version': '2.8.1',\n",
       "  'homepage': 'http://github.com/asdf-format/asdf',\n",
       "  'author': 'The ASDF Developers'},\n",
       " 'history': {'extensions': [{'extension_class': 'asdf.extension.BuiltinExtension',\n",
       "    'software': {'name': 'asdf', 'version': '2.8.1'}}]}}"
      ]
     },
     "execution_count": 18,
     "metadata": {},
     "output_type": "execute_result"
    }
   ],
   "source": [
    "af.tree"
   ]
  },
  {
   "cell_type": "code",
   "execution_count": null,
   "id": "10dd3924-80e6-481f-8006-e33212515c0f",
   "metadata": {},
   "outputs": [],
   "source": []
  }
 ],
 "metadata": {
  "kernelspec": {
   "display_name": "Python 3",
   "language": "python",
   "name": "python3"
  },
  "language_info": {
   "codemirror_mode": {
    "name": "ipython",
    "version": 3
   },
   "file_extension": ".py",
   "mimetype": "text/x-python",
   "name": "python",
   "nbconvert_exporter": "python",
   "pygments_lexer": "ipython3",
   "version": "3.8.9"
  }
 },
 "nbformat": 4,
 "nbformat_minor": 5
}
