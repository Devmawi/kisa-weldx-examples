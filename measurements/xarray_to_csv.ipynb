{
 "cells": [
  {
   "cell_type": "code",
   "execution_count": 74,
   "id": "cfc5cad5",
   "metadata": {},
   "outputs": [],
   "source": [
    "import numpy as np\n",
    "import pandas as pd\n",
    "import sympy\n",
    "\n",
    "import weldx\n",
    "import weldx.measurement as msm\n",
    "import weldx.transformations as tf\n",
    "from weldx import Q_\n",
    "from weldx import util"
   ]
  },
  {
   "cell_type": "code",
   "execution_count": 102,
   "id": "0d12aa91",
   "metadata": {},
   "outputs": [
    {
     "name": "stdout",
     "output_type": "stream",
     "text": [
      "<xarray.DataArray (time: 10001)>\n",
      "<Quantity([300.         301.25581039 302.50666467 ... 297.49333533 298.74418961\n",
      " 300.        ], 'ampere')>\n",
      "Coordinates:\n",
      "  * time     (time) timedelta64[ns] 00:00:00 00:00:00.001000 ... 00:00:10\n",
      "<xarray.DataArray (time: 10001)>\n",
      "<Quantity([300.         301.25581039 302.50666467 ... 297.49333533 298.74418961\n",
      " 300.        ], 'ampere')>\n",
      "Coordinates:\n",
      "  * time     (time) datetime64[ns] 2020-01-01 ... 2020-01-01T00:00:10\n",
      "10001\n",
      "300.0\n"
     ]
    }
   ],
   "source": [
    "time = pd.timedelta_range(start=\"0s\", end=\"10s\", freq=\"1ms\")\n",
    "I_ts = util.sine(f=Q_(10, \"1/s\"), amp=Q_(20, \"A\"), bias=Q_(300, \"A\"))\n",
    "I = I_ts.interp_time(time)\n",
    "print(I)\n",
    "I[\"time\"] = I[\"time\"]+pd.Timestamp(\"2020-01-01\")\n",
    "print(I)\n",
    "print(len(I))\n",
    "unit = I[0].data.units\n",
    "value = I[0].data.magnitude\n",
    "print(value)"
   ]
  },
  {
   "cell_type": "code",
   "execution_count": 27,
   "id": "49935ab6",
   "metadata": {},
   "outputs": [],
   "source": [
    "I.to_pandas().to_csv(\"current_data.csv\", header=[\"value\"])"
   ]
  },
  {
   "cell_type": "code",
   "execution_count": 46,
   "id": "a5afca97",
   "metadata": {},
   "outputs": [],
   "source": [
    "df = pd.read_csv(\"current_data.csv\", parse_dates=[\"time\"], nrows=5)"
   ]
  },
  {
   "cell_type": "code",
   "execution_count": 48,
   "id": "965595d3",
   "metadata": {},
   "outputs": [],
   "source": [
    "import ipywidgets as widgets"
   ]
  },
  {
   "cell_type": "code",
   "execution_count": 43,
   "id": "97f8834a",
   "metadata": {},
   "outputs": [
    {
     "data": {
      "text/plain": [
       "time     datetime64[ns]\n",
       "value           float64\n",
       "dtype: object"
      ]
     },
     "execution_count": 43,
     "metadata": {},
     "output_type": "execute_result"
    }
   ],
   "source": [
    "df.dtypes"
   ]
  },
  {
   "cell_type": "code",
   "execution_count": 49,
   "id": "a7a3e9ae",
   "metadata": {},
   "outputs": [],
   "source": [
    "out = widgets.Output()"
   ]
  },
  {
   "cell_type": "code",
   "execution_count": 50,
   "id": "34c2740b",
   "metadata": {},
   "outputs": [],
   "source": [
    "hbox = widgets.HBox([out])"
   ]
  },
  {
   "cell_type": "code",
   "execution_count": 54,
   "id": "02f21423",
   "metadata": {},
   "outputs": [],
   "source": [
    "with out:\n",
    "    df"
   ]
  },
  {
   "cell_type": "code",
   "execution_count": 56,
   "id": "b08d0991",
   "metadata": {},
   "outputs": [
    {
     "data": {
      "application/vnd.jupyter.widget-view+json": {
       "model_id": "6bcd9e56cfde42d1976880e8f76e396d",
       "version_major": 2,
       "version_minor": 0
      },
      "text/plain": [
       "HBox(children=(Output(outputs=({'name': 'stdout', 'text': '                     time       value\\n0 2020-01-01…"
      ]
     },
     "metadata": {},
     "output_type": "display_data"
    }
   ],
   "source": [
    "hbox"
   ]
  },
  {
   "cell_type": "code",
   "execution_count": 57,
   "id": "41912952",
   "metadata": {},
   "outputs": [],
   "source": [
    "from ipydatagrid import DataGrid\n",
    "\n",
    "dg = DataGrid(df)"
   ]
  },
  {
   "cell_type": "code",
   "execution_count": 60,
   "id": "48db2a4f",
   "metadata": {},
   "outputs": [
    {
     "data": {
      "application/vnd.jupyter.widget-view+json": {
       "model_id": "150267837271421a8cc1079fb689bb56",
       "version_major": 2,
       "version_minor": 0
      },
      "text/plain": [
       "DataGrid(column_widths={'value': 206, 'time': 187}, default_renderer=TextRenderer(), header_renderer=None)"
      ]
     },
     "metadata": {},
     "output_type": "display_data"
    }
   ],
   "source": [
    "dg"
   ]
  },
  {
   "cell_type": "code",
   "execution_count": 64,
   "id": "10a97a3e",
   "metadata": {},
   "outputs": [
    {
     "name": "stdout",
     "output_type": "stream",
     "text": [
      "time\n",
      "value\n"
     ]
    }
   ],
   "source": [
    "for c in df.columns:\n",
    "    print(c)"
   ]
  },
  {
   "cell_type": "code",
   "execution_count": 69,
   "id": "20a0b313",
   "metadata": {},
   "outputs": [
    {
     "name": "stdout",
     "output_type": "stream",
     "text": [
      "time\n",
      "datetime64[ns]\n",
      "value\n",
      "float64\n"
     ]
    }
   ],
   "source": [
    "for k, v in df.dtypes.items():\n",
    "    print(k)\n",
    "    print(v)"
   ]
  },
  {
   "cell_type": "code",
   "execution_count": 71,
   "id": "b8cb5e81",
   "metadata": {},
   "outputs": [],
   "source": [
    "I.to_pandas().to_csv(\"current_data_DE.csv\", header=[\"Wert\"], index_label=\"Zeit\", float_format='{:.4f}'.format)"
   ]
  },
  {
   "cell_type": "code",
   "execution_count": 125,
   "id": "b2541b01",
   "metadata": {
    "jupyter": {
     "source_hidden": true
    },
    "tags": []
   },
   "outputs": [],
   "source": [
    "import xarray as xr\n",
    "import pint\n",
    "\n",
    "ureg = pint.UnitRegistry()\n",
    "Q_ = ureg.Quantity"
   ]
  },
  {
   "cell_type": "code",
   "execution_count": 128,
   "id": "cc5333f9",
   "metadata": {},
   "outputs": [
    {
     "name": "stdout",
     "output_type": "stream",
     "text": [
      "[300.0 301.25581039058625 302.5066646712861 303.7476262917145 304.9737977432971] volt\n"
     ]
    }
   ],
   "source": [
    "values = Q_(np.array(df.value), 'volt')\n",
    "print(values)\n",
    "ds = xr.DataArray(values, coords=[df.time], dims=[\"time\"])"
   ]
  },
  {
   "cell_type": "code",
   "execution_count": 130,
   "id": "db0ce270",
   "metadata": {},
   "outputs": [
    {
     "name": "stdout",
     "output_type": "stream",
     "text": [
      "<xarray.DataArray (time: 5)>\n",
      "<Quantity([300.         301.25581039 302.50666467 303.74762629 304.97379774], 'volt')>\n",
      "Coordinates:\n",
      "  * time     (time) datetime64[ns] 2020-01-01 ... 2020-01-01T00:00:00.004000\n"
     ]
    }
   ],
   "source": [
    "print(ds)"
   ]
  },
  {
   "cell_type": "code",
   "execution_count": 132,
   "id": "37ed8a30",
   "metadata": {},
   "outputs": [],
   "source": [
    "ureg = pint.UnitRegistry()"
   ]
  },
  {
   "cell_type": "code",
   "execution_count": 136,
   "id": "2553b386",
   "metadata": {},
   "outputs": [
    {
     "ename": "UndefinedUnitError",
     "evalue": "'oschi' is not defined in the unit registry",
     "output_type": "error",
     "traceback": [
      "\u001b[1;31m---------------------------------------------------------------------------\u001b[0m",
      "\u001b[1;31mUndefinedUnitError\u001b[0m                        Traceback (most recent call last)",
      "\u001b[1;32m<ipython-input-136-c9c73ddf98fe>\u001b[0m in \u001b[0;36m<module>\u001b[1;34m\u001b[0m\n\u001b[1;32m----> 1\u001b[1;33m \u001b[0mprint\u001b[0m\u001b[1;33m(\u001b[0m\u001b[0mureg\u001b[0m\u001b[1;33m(\u001b[0m\u001b[1;34m'oschi'\u001b[0m\u001b[1;33m)\u001b[0m\u001b[1;33m)\u001b[0m\u001b[1;33m\u001b[0m\u001b[1;33m\u001b[0m\u001b[0m\n\u001b[0m",
      "\u001b[1;32m~\\anaconda3\\envs\\dev\\lib\\site-packages\\pint\\registry.py\u001b[0m in \u001b[0;36mparse_expression\u001b[1;34m(self, input_string, case_sensitive, use_decimal, **values)\u001b[0m\n\u001b[0;32m   1261\u001b[0m         \u001b[0mgen\u001b[0m \u001b[1;33m=\u001b[0m \u001b[0mtokenizer\u001b[0m\u001b[1;33m(\u001b[0m\u001b[0minput_string\u001b[0m\u001b[1;33m)\u001b[0m\u001b[1;33m\u001b[0m\u001b[1;33m\u001b[0m\u001b[0m\n\u001b[0;32m   1262\u001b[0m \u001b[1;33m\u001b[0m\u001b[0m\n\u001b[1;32m-> 1263\u001b[1;33m         return build_eval_tree(gen).evaluate(\n\u001b[0m\u001b[0;32m   1264\u001b[0m             \u001b[1;32mlambda\u001b[0m \u001b[0mx\u001b[0m\u001b[1;33m:\u001b[0m \u001b[0mself\u001b[0m\u001b[1;33m.\u001b[0m\u001b[0m_eval_token\u001b[0m\u001b[1;33m(\u001b[0m\u001b[0mx\u001b[0m\u001b[1;33m,\u001b[0m \u001b[0mcase_sensitive\u001b[0m\u001b[1;33m=\u001b[0m\u001b[0mcase_sensitive\u001b[0m\u001b[1;33m,\u001b[0m \u001b[1;33m**\u001b[0m\u001b[0mvalues\u001b[0m\u001b[1;33m)\u001b[0m\u001b[1;33m\u001b[0m\u001b[1;33m\u001b[0m\u001b[0m\n\u001b[0;32m   1265\u001b[0m         )\n",
      "\u001b[1;32m~\\anaconda3\\envs\\dev\\lib\\site-packages\\pint\\pint_eval.py\u001b[0m in \u001b[0;36mevaluate\u001b[1;34m(self, define_op, bin_op, un_op)\u001b[0m\n\u001b[0;32m    100\u001b[0m         \u001b[1;32melse\u001b[0m\u001b[1;33m:\u001b[0m\u001b[1;33m\u001b[0m\u001b[1;33m\u001b[0m\u001b[0m\n\u001b[0;32m    101\u001b[0m             \u001b[1;31m# single value\u001b[0m\u001b[1;33m\u001b[0m\u001b[1;33m\u001b[0m\u001b[1;33m\u001b[0m\u001b[0m\n\u001b[1;32m--> 102\u001b[1;33m             \u001b[1;32mreturn\u001b[0m \u001b[0mdefine_op\u001b[0m\u001b[1;33m(\u001b[0m\u001b[0mself\u001b[0m\u001b[1;33m.\u001b[0m\u001b[0mleft\u001b[0m\u001b[1;33m)\u001b[0m\u001b[1;33m\u001b[0m\u001b[1;33m\u001b[0m\u001b[0m\n\u001b[0m\u001b[0;32m    103\u001b[0m \u001b[1;33m\u001b[0m\u001b[0m\n\u001b[0;32m    104\u001b[0m \u001b[1;33m\u001b[0m\u001b[0m\n",
      "\u001b[1;32m~\\anaconda3\\envs\\dev\\lib\\site-packages\\pint\\registry.py\u001b[0m in \u001b[0;36m<lambda>\u001b[1;34m(x)\u001b[0m\n\u001b[0;32m   1262\u001b[0m \u001b[1;33m\u001b[0m\u001b[0m\n\u001b[0;32m   1263\u001b[0m         return build_eval_tree(gen).evaluate(\n\u001b[1;32m-> 1264\u001b[1;33m             \u001b[1;32mlambda\u001b[0m \u001b[0mx\u001b[0m\u001b[1;33m:\u001b[0m \u001b[0mself\u001b[0m\u001b[1;33m.\u001b[0m\u001b[0m_eval_token\u001b[0m\u001b[1;33m(\u001b[0m\u001b[0mx\u001b[0m\u001b[1;33m,\u001b[0m \u001b[0mcase_sensitive\u001b[0m\u001b[1;33m=\u001b[0m\u001b[0mcase_sensitive\u001b[0m\u001b[1;33m,\u001b[0m \u001b[1;33m**\u001b[0m\u001b[0mvalues\u001b[0m\u001b[1;33m)\u001b[0m\u001b[1;33m\u001b[0m\u001b[1;33m\u001b[0m\u001b[0m\n\u001b[0m\u001b[0;32m   1265\u001b[0m         )\n\u001b[0;32m   1266\u001b[0m \u001b[1;33m\u001b[0m\u001b[0m\n",
      "\u001b[1;32m~\\anaconda3\\envs\\dev\\lib\\site-packages\\pint\\registry.py\u001b[0m in \u001b[0;36m_eval_token\u001b[1;34m(self, token, case_sensitive, use_decimal, **values)\u001b[0m\n\u001b[0;32m   1157\u001b[0m                     \u001b[1;36m1\u001b[0m\u001b[1;33m,\u001b[0m\u001b[1;33m\u001b[0m\u001b[1;33m\u001b[0m\u001b[0m\n\u001b[0;32m   1158\u001b[0m                     self.UnitsContainer(\n\u001b[1;32m-> 1159\u001b[1;33m                         \u001b[1;33m{\u001b[0m\u001b[0mself\u001b[0m\u001b[1;33m.\u001b[0m\u001b[0mget_name\u001b[0m\u001b[1;33m(\u001b[0m\u001b[0mtoken_text\u001b[0m\u001b[1;33m,\u001b[0m \u001b[0mcase_sensitive\u001b[0m\u001b[1;33m=\u001b[0m\u001b[0mcase_sensitive\u001b[0m\u001b[1;33m)\u001b[0m\u001b[1;33m:\u001b[0m \u001b[1;36m1\u001b[0m\u001b[1;33m}\u001b[0m\u001b[1;33m\u001b[0m\u001b[1;33m\u001b[0m\u001b[0m\n\u001b[0m\u001b[0;32m   1160\u001b[0m                     ),\n\u001b[0;32m   1161\u001b[0m                 )\n",
      "\u001b[1;32m~\\anaconda3\\envs\\dev\\lib\\site-packages\\pint\\registry.py\u001b[0m in \u001b[0;36mget_name\u001b[1;34m(self, name_or_alias, case_sensitive)\u001b[0m\n\u001b[0;32m    641\u001b[0m         \u001b[0mcandidates\u001b[0m \u001b[1;33m=\u001b[0m \u001b[0mself\u001b[0m\u001b[1;33m.\u001b[0m\u001b[0mparse_unit_name\u001b[0m\u001b[1;33m(\u001b[0m\u001b[0mname_or_alias\u001b[0m\u001b[1;33m,\u001b[0m \u001b[0mcase_sensitive\u001b[0m\u001b[1;33m)\u001b[0m\u001b[1;33m\u001b[0m\u001b[1;33m\u001b[0m\u001b[0m\n\u001b[0;32m    642\u001b[0m         \u001b[1;32mif\u001b[0m \u001b[1;32mnot\u001b[0m \u001b[0mcandidates\u001b[0m\u001b[1;33m:\u001b[0m\u001b[1;33m\u001b[0m\u001b[1;33m\u001b[0m\u001b[0m\n\u001b[1;32m--> 643\u001b[1;33m             \u001b[1;32mraise\u001b[0m \u001b[0mUndefinedUnitError\u001b[0m\u001b[1;33m(\u001b[0m\u001b[0mname_or_alias\u001b[0m\u001b[1;33m)\u001b[0m\u001b[1;33m\u001b[0m\u001b[1;33m\u001b[0m\u001b[0m\n\u001b[0m\u001b[0;32m    644\u001b[0m         \u001b[1;32melif\u001b[0m \u001b[0mlen\u001b[0m\u001b[1;33m(\u001b[0m\u001b[0mcandidates\u001b[0m\u001b[1;33m)\u001b[0m \u001b[1;33m==\u001b[0m \u001b[1;36m1\u001b[0m\u001b[1;33m:\u001b[0m\u001b[1;33m\u001b[0m\u001b[1;33m\u001b[0m\u001b[0m\n\u001b[0;32m    645\u001b[0m             \u001b[0mprefix\u001b[0m\u001b[1;33m,\u001b[0m \u001b[0munit_name\u001b[0m\u001b[1;33m,\u001b[0m \u001b[0m_\u001b[0m \u001b[1;33m=\u001b[0m \u001b[0mcandidates\u001b[0m\u001b[1;33m[\u001b[0m\u001b[1;36m0\u001b[0m\u001b[1;33m]\u001b[0m\u001b[1;33m\u001b[0m\u001b[1;33m\u001b[0m\u001b[0m\n",
      "\u001b[1;31mUndefinedUnitError\u001b[0m: 'oschi' is not defined in the unit registry"
     ]
    }
   ],
   "source": [
    "print(ureg('oschi'))"
   ]
  },
  {
   "cell_type": "code",
   "execution_count": null,
   "id": "b47f3afb",
   "metadata": {},
   "outputs": [],
   "source": []
  }
 ],
 "metadata": {
  "kernelspec": {
   "display_name": "Python 3",
   "language": "python",
   "name": "python3"
  },
  "language_info": {
   "codemirror_mode": {
    "name": "ipython",
    "version": 3
   },
   "file_extension": ".py",
   "mimetype": "text/x-python",
   "name": "python",
   "nbconvert_exporter": "python",
   "pygments_lexer": "ipython3",
   "version": "3.8.8"
  }
 },
 "nbformat": 4,
 "nbformat_minor": 5
}
