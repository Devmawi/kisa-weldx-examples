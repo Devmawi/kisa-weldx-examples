{
 "cells": [
  {
   "cell_type": "code",
   "execution_count": 23,
   "id": "4c6e132b",
   "metadata": {},
   "outputs": [],
   "source": [
    "import numpy as np\n",
    "import pandas as pd\n",
    "import sympy\n",
    "\n",
    "import weldx\n",
    "import weldx.measurement as msm\n",
    "import weldx.transformations as tf\n",
    "from weldx import Q_\n",
    "from weldx import util"
   ]
  },
  {
   "cell_type": "code",
   "execution_count": 24,
   "id": "ffedbba7",
   "metadata": {},
   "outputs": [],
   "source": [
    "import ipywidgets as widgets\n",
    "from IPython.display import display\n",
    "import xarray as xr\n",
    "import io"
   ]
  },
  {
   "cell_type": "code",
   "execution_count": 25,
   "id": "1e851b59",
   "metadata": {},
   "outputs": [],
   "source": [
    "class CsvMappingFormGroup:\n",
    "    \n",
    "    def __init__(self, form_title=\"Unbekannte Messreihe\", unit_value=\"\"):\n",
    "        \n",
    "        title = widgets.HTML(value=\"<h3>\" + form_title + \"</h3>\")\n",
    "        file = widgets.FileUpload(multiple=False)\n",
    "        out = widgets.Output()\n",
    "        \n",
    "        def on_file_change(e):\n",
    "            out.clear_output()\n",
    "\n",
    "            keys = list(e[\"new\"].keys())\n",
    "            content = list(e[\"new\"].values())[0][\"content\"]\n",
    "            with out:\n",
    "                print(keys)\n",
    "                df = pd.read_csv(io.BytesIO(content), nrows=5)\n",
    "            with out:\n",
    "                display(df)\n",
    "                cols = list(df.dtypes)\n",
    "\n",
    "            with out:\n",
    "                cols = list(df.columns) + [\"keine Zuweisung\"]\n",
    "                target_cols = [\"time\", \"value\"]\n",
    "                col_mapping_dropdowns = []\n",
    "                form_group = []\n",
    "\n",
    "                for i in range(0, len(target_cols)):\n",
    "                    drop_down = widgets.Dropdown(\n",
    "                        options=cols,\n",
    "                        value=cols[i if i < len(cols) else 0],\n",
    "                        disabled=False,\n",
    "                     )\n",
    "                    col_mapping_dropdowns.append(drop_down)\n",
    "                    form_group = form_group + [widgets.Label(target_cols[i] + \"-Spalte\"), drop_down]\n",
    "\n",
    "                unit = widgets.Text(value=unit_value)\n",
    "                form_group.append(widgets.Label(\"Einheit\"))\n",
    "                form_group.append(unit)\n",
    "                convert_button = widgets.Button(icon=\"file-export\", description=\"Konvertieren\")\n",
    "                form_group.append(convert_button)\n",
    "                validation_out = widgets.Output()\n",
    "                form_group.append(validation_out)\n",
    "                def on_click(e):\n",
    "                    validation_out.clear_output()\n",
    "                    try:\n",
    "                        time_column = col_mapping_dropdowns[0].value\n",
    "                        value_column = col_mapping_dropdowns[1].value\n",
    "\n",
    "                        values = Q_(np.array(df[value_column]), unit.value)\n",
    "                        da = xr.DataArray(values, coords=[pd.to_datetime(df[time_column])], dims=[\"time\"])\n",
    "                        self.value = da\n",
    "                        with validation_out:\n",
    "                            display(self.value)\n",
    "                    except Exception as e:\n",
    "                        with validation_out:\n",
    "                            print(e)\n",
    "\n",
    "\n",
    "                convert_button.on_click(on_click)\n",
    "\n",
    "                form_group_box = widgets.VBox(form_group)\n",
    "                display(form_group_box)\n",
    "        file.observe(on_file_change, names='value')\n",
    "        \n",
    "        self.title = title\n",
    "        self.file = file\n",
    "        self.out = out\n",
    "        self.value = []\n",
    "    def build_widget_box(self):\n",
    "        return widgets.VBox([self.title, self.file, self.out])\n",
    "    \n",
    "    def weldx_measurement_data(self, name=\"Unknown\"):      \n",
    "        data = msm.Data(name=name, data=self.value)\n",
    "        return data"
   ]
  },
  {
   "cell_type": "code",
   "execution_count": 36,
   "id": "7fce0ffc",
   "metadata": {},
   "outputs": [],
   "source": [
    "form_title = widgets.HTML(value=\"<h2>Messreihen erfassen</h2>\")\n",
    "fg_I = CsvMappingFormGroup(\"1.) Stromstärke\", \"ampere\")\n",
    "fg_U = CsvMappingFormGroup(\"2.) Spannung\", \"volt\")"
   ]
  },
  {
   "cell_type": "code",
   "execution_count": 37,
   "id": "15fe060f",
   "metadata": {},
   "outputs": [
    {
     "data": {
      "application/vnd.jupyter.widget-view+json": {
       "model_id": "02bff97b44f94a06aae316cb58eccef4",
       "version_major": 2,
       "version_minor": 0
      },
      "text/plain": [
       "VBox(children=(HTML(value='<h2>Messreihen erfassen</h2>'), VBox(children=(HTML(value='<h3>1.) Stromstärke</h3>…"
      ]
     },
     "metadata": {},
     "output_type": "display_data"
    }
   ],
   "source": [
    "form = widgets.VBox([form_title ,fg_I.build_widget_box(), fg_U.build_widget_box()])\n",
    "form"
   ]
  },
  {
   "cell_type": "code",
   "execution_count": 46,
   "id": "c6019ea6",
   "metadata": {},
   "outputs": [
    {
     "data": {
      "application/vnd.jupyter.widget-view+json": {
       "model_id": "2657b02b007c415693ef2d9cd19d3193",
       "version_major": 2,
       "version_minor": 0
      },
      "text/plain": [
       "Button(description='Speichern', icon='save', style=ButtonStyle())"
      ]
     },
     "metadata": {},
     "output_type": "display_data"
    },
    {
     "data": {
      "application/vnd.jupyter.widget-view+json": {
       "model_id": "d764db96ae484d0fa27281169d3c6317",
       "version_major": 2,
       "version_minor": 0
      },
      "text/plain": [
       "Output()"
      ]
     },
     "metadata": {},
     "output_type": "display_data"
    }
   ],
   "source": [
    "import asdf\n",
    "\n",
    "save_out = widgets.Output()\n",
    "def on_save(e):\n",
    "    measurement_data = [fg_I.weldx_measurement_data(\"Welding current\"), fg_U.weldx_measurement_data(\"Welding voltage\")]\n",
    "    tree = {\n",
    "        \"data\": measurement_data\n",
    "    }\n",
    "    af = asdf.AsdfFile(tree) \n",
    "    af.write_to('measuremen_data.asdf')\n",
    "    buffer = weldx.asdf.util._write_buffer(tree)\n",
    "    \n",
    "    save_out.clear_output()\n",
    "    with save_out:\n",
    "        display(weldx.asdf.util.notebook_fileprinter(buffer))\n",
    "\n",
    "save_button = widgets.Button(icon=\"save\", description=\"Speichern\")\n",
    "save_button.on_click(on_save)\n",
    "display(save_button, save_out)"
   ]
  },
  {
   "cell_type": "code",
   "execution_count": null,
   "id": "a7212099",
   "metadata": {},
   "outputs": [],
   "source": []
  }
 ],
 "metadata": {
  "kernelspec": {
   "display_name": "Python 3",
   "language": "python",
   "name": "python3"
  },
  "language_info": {
   "codemirror_mode": {
    "name": "ipython",
    "version": 3
   },
   "file_extension": ".py",
   "mimetype": "text/x-python",
   "name": "python",
   "nbconvert_exporter": "python",
   "pygments_lexer": "ipython3",
   "version": "3.8.8"
  }
 },
 "nbformat": 4,
 "nbformat_minor": 5
}
